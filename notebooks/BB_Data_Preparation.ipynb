{
 "cells": [
  {
   "cell_type": "code",
   "execution_count": 2,
   "metadata": {},
   "outputs": [
    {
     "name": "stderr",
     "output_type": "stream",
     "text": [
      "/home/jsu/anaconda3/lib/python3.7/site-packages/tensorflow/python/framework/dtypes.py:526: FutureWarning: Passing (type, 1) or '1type' as a synonym of type is deprecated; in a future version of numpy, it will be understood as (type, (1,)) / '(1,)type'.\n",
      "  _np_qint8 = np.dtype([(\"qint8\", np.int8, 1)])\n",
      "/home/jsu/anaconda3/lib/python3.7/site-packages/tensorflow/python/framework/dtypes.py:527: FutureWarning: Passing (type, 1) or '1type' as a synonym of type is deprecated; in a future version of numpy, it will be understood as (type, (1,)) / '(1,)type'.\n",
      "  _np_quint8 = np.dtype([(\"quint8\", np.uint8, 1)])\n",
      "/home/jsu/anaconda3/lib/python3.7/site-packages/tensorflow/python/framework/dtypes.py:528: FutureWarning: Passing (type, 1) or '1type' as a synonym of type is deprecated; in a future version of numpy, it will be understood as (type, (1,)) / '(1,)type'.\n",
      "  _np_qint16 = np.dtype([(\"qint16\", np.int16, 1)])\n",
      "/home/jsu/anaconda3/lib/python3.7/site-packages/tensorflow/python/framework/dtypes.py:529: FutureWarning: Passing (type, 1) or '1type' as a synonym of type is deprecated; in a future version of numpy, it will be understood as (type, (1,)) / '(1,)type'.\n",
      "  _np_quint16 = np.dtype([(\"quint16\", np.uint16, 1)])\n",
      "/home/jsu/anaconda3/lib/python3.7/site-packages/tensorflow/python/framework/dtypes.py:530: FutureWarning: Passing (type, 1) or '1type' as a synonym of type is deprecated; in a future version of numpy, it will be understood as (type, (1,)) / '(1,)type'.\n",
      "  _np_qint32 = np.dtype([(\"qint32\", np.int32, 1)])\n",
      "/home/jsu/anaconda3/lib/python3.7/site-packages/tensorflow/python/framework/dtypes.py:535: FutureWarning: Passing (type, 1) or '1type' as a synonym of type is deprecated; in a future version of numpy, it will be understood as (type, (1,)) / '(1,)type'.\n",
      "  np_resource = np.dtype([(\"resource\", np.ubyte, 1)])\n"
     ]
    }
   ],
   "source": [
    "import numpy as np\n",
    "import os\n",
    "from collections import Counter\n",
    "from ensemble import ensemble_defenses_util"
   ]
  },
  {
   "cell_type": "code",
   "execution_count": 64,
   "metadata": {},
   "outputs": [
    {
     "name": "stdout",
     "output_type": "stream",
     "text": [
      "Budget 10: dict_values([1, 1, 1, 1, 1, 1, 1, 1, 1, 1])\n",
      "Budget 50: dict_values([5, 5, 5, 5, 5, 5, 5, 5, 5, 5])\n",
      "Budget 100: dict_values([10, 10, 10, 10, 10, 10, 10, 10, 10, 10])\n",
      "Budget 500: dict_values([50, 50, 50, 50, 50, 50, 50, 50, 50, 50])\n",
      "Budget 1000: dict_values([100, 100, 100, 100, 100, 100, 100, 100, 100, 100])\n"
     ]
    }
   ],
   "source": [
    "BS_data_FP=\"AE_mnist/legitimates/test_BS-mnist-clean.npy\"\n",
    "BS_label_FP=\"AE_mnist/legitimates/test_Label-mnist-clean.npy\"\n",
    "BS_pred_prob_FP=\"prediction_prob/pred_BS.npy\"\n",
    "BS_pred_logit_FP=\"prediction_logit/BS.npy\"\n",
    "\n",
    "BS = np.load(BS_data_FP)\n",
    "labels = np.argmax(np.load(BS_label_FP), axis=1)\n",
    "pred_prob = np.load(BS_pred_prob_FP)\n",
    "pred_logit = np.load(BS_pred_logit_FP)\n",
    "\n",
    "result_dir = \"BB_data_preparation\"\n",
    "if not os.path.isdir(result_dir):\n",
    "    os.mkdir(result_dir)\n",
    "    \n",
    "indices = {}\n",
    "for i in range(10):\n",
    "    ind_i= np.where(labels==i)[0]\n",
    "    np.random.shuffle(ind_i)\n",
    "    indices[str(i)] = ind_i\n",
    "    \n",
    "    \n",
    "ind_sets = {}\n",
    "query_budgets = [10, 50, 100, 500, 1000]\n",
    "for budget in query_budgets:\n",
    "    budget_per_class = budget//10\n",
    "    ind_budget = indices[\"0\"][:(budget-9*budget_per_class)]\n",
    "    for label in range(1, 10):\n",
    "        ind_budget = np.hstack((ind_budget, indices[str(label)][:budget_per_class]))\n",
    "    np.random.shuffle(ind_budget)\n",
    "    ind_sets[str(budget)] = ind_budget\n",
    "    print(\"Budget {}: {}\".format(budget, Counter(labels[ind_budget]).values()))\n",
    "    np.save(\n",
    "        os.path.join(result_dir, \"budget{}_train_set.npy\".format(budget)),\n",
    "        BS[ind_budget])\n",
    "np.save(os.path.join(result_dir, \"train_set_ori_indices.npy\"), ind_sets['1000'])\n",
    "val_ind_sets = np.array([ind for ind in range(10000) if ind not in ind_sets[str(1000)]])\n",
    "np.save(os.path.join(result_dir, \"validation_set_9k_data.npy\"), BS[val_ind_sets])\n",
    "np.save(os.path.join(result_dir, \"validation_set_9k_label.npy\"), labels[val_ind_sets])"
   ]
  },
  {
   "cell_type": "code",
   "execution_count": 65,
   "metadata": {},
   "outputs": [],
   "source": [
    "BB_labels_dir=os.path.join(result_dir, \"BB_labels\")\n",
    "os.mkdir(BB_labels_dir)\n",
    "ensembles = [\"RD\", \"MV\", \"AVEP\", \"T2MV\", \"AVEL\"]\n",
    "for ensembleID in range(4):\n",
    "    cur_labels_dir = os.path.join(BB_labels_dir, ensembles[ensembleID])\n",
    "    os.mkdir(cur_labels_dir)\n",
    "    for budget in query_budgets:\n",
    "        cur_labels = ensemble_defenses_util(pred_prob[:, ind_sets[str(budget)], :], ensembleID)\n",
    "        np.save(os.path.join(cur_labels_dir, \"{}.npy\".format(budget)), cur_labels)\n",
    "    \n",
    "cur_labels_dir = os.path.join(BB_labels_dir, \"AVEL\")\n",
    "os.mkdir(cur_labels_dir)\n",
    "ensembleID = 2 # averageing approach\n",
    "for budget in query_budgets:\n",
    "    cur_labels = ensemble_defenses_util(pred_logit[:, ind_sets[str(budget)], :], ensembleID)\n",
    "    np.save(os.path.join(cur_labels_dir, \"{}.npy\".format(budget)), cur_labels)"
   ]
  },
  {
   "cell_type": "code",
   "execution_count": 66,
   "metadata": {},
   "outputs": [
    {
     "name": "stdout",
     "output_type": "stream",
     "text": [
      "Budget second 1000: dict_values([100, 100, 100, 100, 100, 100, 100, 100, 100, 100])\n"
     ]
    }
   ],
   "source": [
    "ind_budget = indices[\"0\"][100:200]\n",
    "for label in range(1, 10):\n",
    "    ind_budget = np.hstack((ind_budget, indices[str(label)][100:200]))\n",
    "    np.random.shuffle(ind_budget)\n",
    "    \n",
    "print(\"Budget {}: {}\".format(\"second 1000\", Counter(labels[ind_budget]).values()))\n",
    "np.save(os.path.join(result_dir, \"BS_1k_data_For_AE.npy\"), BS[ind_budget])\n",
    "np.save(os.path.join(result_dir, \"BS_1k_label_For_AE.npy\"), labels[ind_budget])"
   ]
  },
  {
   "cell_type": "code",
   "execution_count": 3,
   "metadata": {
    "scrolled": true
   },
   "outputs": [
    {
     "name": "stdout",
     "output_type": "stream",
     "text": [
      "WARNING:tensorflow:From /home/jsu/anaconda3/lib/python3.7/site-packages/tensorflow/python/ops/resource_variable_ops.py:435: colocate_with (from tensorflow.python.framework.ops) is deprecated and will be removed in a future version.\n",
      "Instructions for updating:\n",
      "Colocations handled automatically by placer.\n",
      "WARNING:tensorflow:From /home/jsu/anaconda3/lib/python3.7/site-packages/tensorflow/python/keras/layers/core.py:143: calling dropout (from tensorflow.python.ops.nn_ops) with keep_prob is deprecated and will be removed in a future version.\n",
      "Instructions for updating:\n",
      "Please use `rate` instead of `keep_prob`. Rate should be set to `rate = 1 - keep_prob`.\n"
     ]
    }
   ],
   "source": [
    "# Collect labels when targeting the undefended model\n",
    "result_dir = \"BB_data_preparation\"\n",
    "BB_labels_dir = os.path.join(result_dir, \"BB_labels\")\n",
    "cur_labels_dir = os.path.join(BB_labels_dir, \"UM\")\n",
    "\n",
    "from tensorflow.keras.models import load_model\n",
    "ori_model = load_model(\"./models_mnist/model-mnist-cnn-clean.h5\")"
   ]
  },
  {
   "cell_type": "code",
   "execution_count": 5,
   "metadata": {},
   "outputs": [],
   "source": [
    "query_budgets = [10, 50, 100, 500, 1000]\n",
    "for budget in query_budgets:\n",
    "    X = np.load(os.path.join(result_dir, \"budget{}_train_set.npy\".format(budget)))\n",
    "    Y = ori_model.predict(X)\n",
    "    Y = np.argmax(Y, axis=1)\n",
    "    np.save(os.path.join(cur_labels_dir, \"{}.npy\".format(budget)), Y)"
   ]
  },
  {
   "cell_type": "code",
   "execution_count": null,
   "metadata": {},
   "outputs": [],
   "source": []
  }
 ],
 "metadata": {
  "kernelspec": {
   "display_name": "Python 3",
   "language": "python",
   "name": "python3"
  },
  "language_info": {
   "codemirror_mode": {
    "name": "ipython",
    "version": 3
   },
   "file_extension": ".py",
   "mimetype": "text/x-python",
   "name": "python",
   "nbconvert_exporter": "python",
   "pygments_lexer": "ipython3",
   "version": "3.7.3"
  }
 },
 "nbformat": 4,
 "nbformat_minor": 2
}
